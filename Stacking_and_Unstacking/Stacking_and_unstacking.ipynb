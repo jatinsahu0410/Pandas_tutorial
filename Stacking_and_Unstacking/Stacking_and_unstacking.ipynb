{
 "cells": [
  {
   "cell_type": "code",
   "execution_count": 1,
   "metadata": {},
   "outputs": [],
   "source": [
    "import pandas as pd "
   ]
  },
  {
   "cell_type": "code",
   "execution_count": 13,
   "metadata": {},
   "outputs": [
    {
     "data": {
      "text/html": [
       "<div>\n",
       "<style scoped>\n",
       "    .dataframe tbody tr th:only-of-type {\n",
       "        vertical-align: middle;\n",
       "    }\n",
       "\n",
       "    .dataframe tbody tr th {\n",
       "        vertical-align: top;\n",
       "    }\n",
       "\n",
       "    .dataframe thead tr th {\n",
       "        text-align: left;\n",
       "    }\n",
       "</style>\n",
       "<table border=\"1\" class=\"dataframe\">\n",
       "  <thead>\n",
       "    <tr>\n",
       "      <th></th>\n",
       "      <th>Unnamed: 0_level_0</th>\n",
       "      <th colspan=\"3\" halign=\"left\">Price</th>\n",
       "      <th colspan=\"3\" halign=\"left\">Price to earnings Ratio(P/E)</th>\n",
       "    </tr>\n",
       "    <tr>\n",
       "      <th></th>\n",
       "      <th>Company</th>\n",
       "      <th>Facebook</th>\n",
       "      <th>Google</th>\n",
       "      <th>Microsoft</th>\n",
       "      <th>Facebook</th>\n",
       "      <th>Google</th>\n",
       "      <th>Microsoft</th>\n",
       "    </tr>\n",
       "  </thead>\n",
       "  <tbody>\n",
       "    <tr>\n",
       "      <th>0</th>\n",
       "      <td>2023-06-05</td>\n",
       "      <td>150</td>\n",
       "      <td>900</td>\n",
       "      <td>542</td>\n",
       "      <td>37.10</td>\n",
       "      <td>32.00</td>\n",
       "      <td>30.31</td>\n",
       "    </tr>\n",
       "    <tr>\n",
       "      <th>1</th>\n",
       "      <td>2023-06-06</td>\n",
       "      <td>153</td>\n",
       "      <td>901</td>\n",
       "      <td>540</td>\n",
       "      <td>39.02</td>\n",
       "      <td>33.10</td>\n",
       "      <td>30.56</td>\n",
       "    </tr>\n",
       "    <tr>\n",
       "      <th>2</th>\n",
       "      <td>2023-06-07</td>\n",
       "      <td>151</td>\n",
       "      <td>902</td>\n",
       "      <td>543</td>\n",
       "      <td>36.90</td>\n",
       "      <td>31.98</td>\n",
       "      <td>30.56</td>\n",
       "    </tr>\n",
       "    <tr>\n",
       "      <th>3</th>\n",
       "      <td>2023-06-08</td>\n",
       "      <td>155</td>\n",
       "      <td>899</td>\n",
       "      <td>550</td>\n",
       "      <td>38.67</td>\n",
       "      <td>31.80</td>\n",
       "      <td>32.90</td>\n",
       "    </tr>\n",
       "    <tr>\n",
       "      <th>4</th>\n",
       "      <td>2023-06-09</td>\n",
       "      <td>156</td>\n",
       "      <td>880</td>\n",
       "      <td>552</td>\n",
       "      <td>36.11</td>\n",
       "      <td>30.00</td>\n",
       "      <td>30.31</td>\n",
       "    </tr>\n",
       "  </tbody>\n",
       "</table>\n",
       "</div>"
      ],
      "text/plain": [
       "  Unnamed: 0_level_0    Price                  Price to earnings Ratio(P/E)  \\\n",
       "             Company Facebook Google Microsoft                     Facebook   \n",
       "0         2023-06-05      150    900       542                        37.10   \n",
       "1         2023-06-06      153    901       540                        39.02   \n",
       "2         2023-06-07      151    902       543                        36.90   \n",
       "3         2023-06-08      155    899       550                        38.67   \n",
       "4         2023-06-09      156    880       552                        36.11   \n",
       "\n",
       "                    \n",
       "  Google Microsoft  \n",
       "0  32.00     30.31  \n",
       "1  33.10     30.56  \n",
       "2  31.98     30.56  \n",
       "3  31.80     32.90  \n",
       "4  30.00     30.31  "
      ]
     },
     "execution_count": 13,
     "metadata": {},
     "output_type": "execute_result"
    }
   ],
   "source": [
    "df = pd.read_excel(\"./Stocks.xlsx\", header=[0,1]);\n",
    "df"
   ]
  },
  {
   "cell_type": "code",
   "execution_count": null,
   "metadata": {},
   "outputs": [],
   "source": []
  }
 ],
 "metadata": {
  "kernelspec": {
   "display_name": "base",
   "language": "python",
   "name": "python3"
  },
  "language_info": {
   "codemirror_mode": {
    "name": "ipython",
    "version": 3
   },
   "file_extension": ".py",
   "mimetype": "text/x-python",
   "name": "python",
   "nbconvert_exporter": "python",
   "pygments_lexer": "ipython3",
   "version": "3.11.7"
  }
 },
 "nbformat": 4,
 "nbformat_minor": 2
}
